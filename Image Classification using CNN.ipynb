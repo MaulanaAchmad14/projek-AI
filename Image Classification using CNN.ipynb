{
 "cells": [
  {
   "cell_type": "markdown",
   "metadata": {},
   "source": [
    "<h3>1. Import module yang dibutuhkan</h3>"
   ]
  },
  {
   "cell_type": "code",
   "execution_count": 1,
   "metadata": {},
   "outputs": [],
   "source": [
    "from sklearn.model_selection import train_test_split\n",
    "from sklearn.preprocessing import LabelEncoder\n",
    "from sklearn.metrics import classification_report\n",
    "from tensorflow.keras.models import Sequential\n",
    "from tensorflow.keras.layers import InputLayer, Flatten, Dense, Conv2D, MaxPool2D, Dropout\n",
    "from tensorflow.keras.optimizers import Adam\n",
    "import numpy as np\n",
    "import cv2\n",
    "import glob\n",
    "import matplotlib.pyplot as plt"
   ]
  },
  {
   "cell_type": "markdown",
   "metadata": {},
   "source": [
    "<h3>2. Load Dataset</h3>"
   ]
  },
  {
   "cell_type": "code",
   "execution_count": 2,
   "metadata": {},
   "outputs": [],
   "source": [
    "imagePaths = 'Dataset\\\\'\n",
    "label_list = ['daun kemangi', 'Daun Nangka']\n",
    "data = []\n",
    "labels = []"
   ]
  },
  {
   "cell_type": "code",
   "execution_count": 3,
   "metadata": {},
   "outputs": [],
   "source": [
    "for label in label_list:\n",
    "    for imagePath in glob.glob(imagePaths+label+'\\\\*.jpg'):\n",
    "        #print(imagePath)\n",
    "        image = cv2.imread(imagePath)\n",
    "        image = cv2.resize(image, (32, 32))\n",
    "        data.append(image)\n",
    "        labels.append(label)"
   ]
  },
  {
   "cell_type": "code",
   "execution_count": 4,
   "metadata": {},
   "outputs": [
    {
     "data": {
      "text/plain": [
       "(100, 32, 32, 3)"
      ]
     },
     "execution_count": 4,
     "metadata": {},
     "output_type": "execute_result"
    }
   ],
   "source": [
    "np.array(data).shape"
   ]
  },
  {
   "cell_type": "markdown",
   "metadata": {},
   "source": [
    "<h3>3. Data Preprocessing</h3>"
   ]
  },
  {
   "cell_type": "code",
   "execution_count": 5,
   "metadata": {},
   "outputs": [],
   "source": [
    "# ubah type data dari list menjadi array\n",
    "# ubah nilai dari tiap pixel menjadi range [0..1]\n",
    "data = np.array(data, dtype='float') / 255.0\n",
    "labels = np.array(labels)"
   ]
  },
  {
   "cell_type": "code",
   "execution_count": 6,
   "metadata": {},
   "outputs": [
    {
     "name": "stdout",
     "output_type": "stream",
     "text": [
      "['daun kemangi' 'daun kemangi' 'daun kemangi' 'daun kemangi'\n",
      " 'daun kemangi' 'daun kemangi' 'daun kemangi' 'daun kemangi'\n",
      " 'daun kemangi' 'daun kemangi' 'daun kemangi' 'daun kemangi'\n",
      " 'daun kemangi' 'daun kemangi' 'daun kemangi' 'daun kemangi'\n",
      " 'daun kemangi' 'daun kemangi' 'daun kemangi' 'daun kemangi'\n",
      " 'daun kemangi' 'daun kemangi' 'daun kemangi' 'daun kemangi'\n",
      " 'daun kemangi' 'daun kemangi' 'daun kemangi' 'daun kemangi'\n",
      " 'daun kemangi' 'daun kemangi' 'daun kemangi' 'daun kemangi'\n",
      " 'daun kemangi' 'daun kemangi' 'daun kemangi' 'daun kemangi'\n",
      " 'daun kemangi' 'daun kemangi' 'daun kemangi' 'daun kemangi'\n",
      " 'daun kemangi' 'daun kemangi' 'daun kemangi' 'daun kemangi'\n",
      " 'daun kemangi' 'daun kemangi' 'daun kemangi' 'daun kemangi'\n",
      " 'daun kemangi' 'daun kemangi' 'Daun Nangka' 'Daun Nangka' 'Daun Nangka'\n",
      " 'Daun Nangka' 'Daun Nangka' 'Daun Nangka' 'Daun Nangka' 'Daun Nangka'\n",
      " 'Daun Nangka' 'Daun Nangka' 'Daun Nangka' 'Daun Nangka' 'Daun Nangka'\n",
      " 'Daun Nangka' 'Daun Nangka' 'Daun Nangka' 'Daun Nangka' 'Daun Nangka'\n",
      " 'Daun Nangka' 'Daun Nangka' 'Daun Nangka' 'Daun Nangka' 'Daun Nangka'\n",
      " 'Daun Nangka' 'Daun Nangka' 'Daun Nangka' 'Daun Nangka' 'Daun Nangka'\n",
      " 'Daun Nangka' 'Daun Nangka' 'Daun Nangka' 'Daun Nangka' 'Daun Nangka'\n",
      " 'Daun Nangka' 'Daun Nangka' 'Daun Nangka' 'Daun Nangka' 'Daun Nangka'\n",
      " 'Daun Nangka' 'Daun Nangka' 'Daun Nangka' 'Daun Nangka' 'Daun Nangka'\n",
      " 'Daun Nangka' 'Daun Nangka' 'Daun Nangka' 'Daun Nangka' 'Daun Nangka'\n",
      " 'Daun Nangka' 'Daun Nangka']\n"
     ]
    }
   ],
   "source": [
    "print(labels)"
   ]
  },
  {
   "cell_type": "code",
   "execution_count": 7,
   "metadata": {},
   "outputs": [
    {
     "name": "stdout",
     "output_type": "stream",
     "text": [
      "[1 1 1 1 1 1 1 1 1 1 1 1 1 1 1 1 1 1 1 1 1 1 1 1 1 1 1 1 1 1 1 1 1 1 1 1 1\n",
      " 1 1 1 1 1 1 1 1 1 1 1 1 1 0 0 0 0 0 0 0 0 0 0 0 0 0 0 0 0 0 0 0 0 0 0 0 0\n",
      " 0 0 0 0 0 0 0 0 0 0 0 0 0 0 0 0 0 0 0 0 0 0 0 0 0 0]\n"
     ]
    }
   ],
   "source": [
    "# ubah nilai dari labels menjadi binary\n",
    "lb = LabelEncoder()\n",
    "labels = lb.fit_transform(labels)\n",
    "print(labels)"
   ]
  },
  {
   "cell_type": "markdown",
   "metadata": {},
   "source": [
    "<h3>4. Split Dataset</h3>"
   ]
  },
  {
   "cell_type": "code",
   "execution_count": 8,
   "metadata": {},
   "outputs": [],
   "source": [
    "x_train, x_test, y_train, y_test = train_test_split(data, labels, test_size=0.2, random_state=42)"
   ]
  },
  {
   "cell_type": "code",
   "execution_count": 9,
   "metadata": {},
   "outputs": [
    {
     "name": "stdout",
     "output_type": "stream",
     "text": [
      "Ukuran data train = (80, 32, 32, 3)\n",
      "Ukuran data test = (20, 32, 32, 3)\n"
     ]
    }
   ],
   "source": [
    "print('Ukuran data train =', x_train.shape)\n",
    "print('Ukuran data test =', x_test.shape)"
   ]
  },
  {
   "cell_type": "markdown",
   "metadata": {},
   "source": [
    "<h3>5. Build CNN Architecture</h3>"
   ]
  },
  {
   "cell_type": "code",
   "execution_count": 10,
   "metadata": {},
   "outputs": [],
   "source": [
    "model = Sequential()\n",
    "# Extracted Feature Layer\n",
    "model.add(InputLayer(input_shape=[32,32,3]))\n",
    "model.add(Conv2D(filters=32, kernel_size=2, strides=1, padding='same', activation='relu'))\n",
    "model.add(MaxPool2D(pool_size=2, padding='same'))\n",
    "model.add(Conv2D(filters=50, kernel_size=2, strides=1, padding='same', activation='relu'))\n",
    "model.add(MaxPool2D(pool_size=2, padding='same'))\n",
    "model.add(Dropout(0.25))\n",
    "model.add(Flatten())\n",
    "# Fully Connected Layer\n",
    "model.add(Dense(512, activation='relu'))\n",
    "model.add(Dropout(0.5))\n",
    "model.add(Dense(1, activation='sigmoid'))"
   ]
  },
  {
   "cell_type": "code",
   "execution_count": 11,
   "metadata": {},
   "outputs": [
    {
     "name": "stdout",
     "output_type": "stream",
     "text": [
      "Model: \"sequential\"\n",
      "_________________________________________________________________\n",
      " Layer (type)                Output Shape              Param #   \n",
      "=================================================================\n",
      " conv2d (Conv2D)             (None, 32, 32, 32)        416       \n",
      "                                                                 \n",
      " max_pooling2d (MaxPooling2D  (None, 16, 16, 32)       0         \n",
      " )                                                               \n",
      "                                                                 \n",
      " conv2d_1 (Conv2D)           (None, 16, 16, 50)        6450      \n",
      "                                                                 \n",
      " max_pooling2d_1 (MaxPooling  (None, 8, 8, 50)         0         \n",
      " 2D)                                                             \n",
      "                                                                 \n",
      " dropout (Dropout)           (None, 8, 8, 50)          0         \n",
      "                                                                 \n",
      " flatten (Flatten)           (None, 3200)              0         \n",
      "                                                                 \n",
      " dense (Dense)               (None, 512)               1638912   \n",
      "                                                                 \n",
      " dropout_1 (Dropout)         (None, 512)               0         \n",
      "                                                                 \n",
      " dense_1 (Dense)             (None, 1)                 513       \n",
      "                                                                 \n",
      "=================================================================\n",
      "Total params: 1,646,291\n",
      "Trainable params: 1,646,291\n",
      "Non-trainable params: 0\n",
      "_________________________________________________________________\n"
     ]
    }
   ],
   "source": [
    "model.summary()"
   ]
  },
  {
   "cell_type": "code",
   "execution_count": 12,
   "metadata": {},
   "outputs": [],
   "source": [
    "# tentukan hyperparameter\n",
    "lr = 0.001\n",
    "max_epochs = 100\n",
    "opt_funct = Adam(learning_rate=lr)"
   ]
  },
  {
   "cell_type": "code",
   "execution_count": 13,
   "metadata": {},
   "outputs": [],
   "source": [
    "# compile arsitektur yang telah dibuat\n",
    "model.compile(loss = 'binary_crossentropy', \n",
    "              optimizer = opt_funct, \n",
    "              metrics = ['accuracy'])"
   ]
  },
  {
   "cell_type": "markdown",
   "metadata": {},
   "source": [
    "<h3>6. Train Model</h3>"
   ]
  },
  {
   "cell_type": "code",
   "execution_count": 14,
   "metadata": {},
   "outputs": [
    {
     "name": "stdout",
     "output_type": "stream",
     "text": [
      "Epoch 1/100\n",
      "3/3 [==============================] - 2s 319ms/step - loss: 0.9359 - accuracy: 0.4875 - val_loss: 0.5646 - val_accuracy: 0.6500\n",
      "Epoch 2/100\n",
      "3/3 [==============================] - 0s 43ms/step - loss: 0.6992 - accuracy: 0.5750 - val_loss: 0.4534 - val_accuracy: 1.0000\n",
      "Epoch 3/100\n",
      "3/3 [==============================] - 0s 51ms/step - loss: 0.4535 - accuracy: 0.8000 - val_loss: 0.5044 - val_accuracy: 0.4000\n",
      "Epoch 4/100\n",
      "3/3 [==============================] - 0s 64ms/step - loss: 0.3805 - accuracy: 0.8375 - val_loss: 0.2476 - val_accuracy: 1.0000\n",
      "Epoch 5/100\n",
      "3/3 [==============================] - 0s 65ms/step - loss: 0.2346 - accuracy: 0.9750 - val_loss: 0.1582 - val_accuracy: 1.0000\n",
      "Epoch 6/100\n",
      "3/3 [==============================] - 0s 60ms/step - loss: 0.1415 - accuracy: 1.0000 - val_loss: 0.0921 - val_accuracy: 1.0000\n",
      "Epoch 7/100\n",
      "3/3 [==============================] - 0s 74ms/step - loss: 0.0845 - accuracy: 0.9875 - val_loss: 0.0382 - val_accuracy: 1.0000\n",
      "Epoch 8/100\n",
      "3/3 [==============================] - 0s 39ms/step - loss: 0.0409 - accuracy: 1.0000 - val_loss: 0.0198 - val_accuracy: 1.0000\n",
      "Epoch 9/100\n",
      "3/3 [==============================] - 0s 34ms/step - loss: 0.0243 - accuracy: 1.0000 - val_loss: 0.0091 - val_accuracy: 1.0000\n",
      "Epoch 10/100\n",
      "3/3 [==============================] - 0s 52ms/step - loss: 0.0129 - accuracy: 1.0000 - val_loss: 0.0047 - val_accuracy: 1.0000\n",
      "Epoch 11/100\n",
      "3/3 [==============================] - 0s 60ms/step - loss: 0.0056 - accuracy: 1.0000 - val_loss: 0.0025 - val_accuracy: 1.0000\n",
      "Epoch 12/100\n",
      "3/3 [==============================] - 0s 47ms/step - loss: 0.0106 - accuracy: 1.0000 - val_loss: 0.0015 - val_accuracy: 1.0000\n",
      "Epoch 13/100\n",
      "3/3 [==============================] - 0s 33ms/step - loss: 0.0099 - accuracy: 1.0000 - val_loss: 9.4252e-04 - val_accuracy: 1.0000\n",
      "Epoch 14/100\n",
      "3/3 [==============================] - 0s 30ms/step - loss: 0.0036 - accuracy: 1.0000 - val_loss: 5.9533e-04 - val_accuracy: 1.0000\n",
      "Epoch 15/100\n",
      "3/3 [==============================] - 0s 29ms/step - loss: 0.0035 - accuracy: 1.0000 - val_loss: 6.7312e-04 - val_accuracy: 1.0000\n",
      "Epoch 16/100\n",
      "3/3 [==============================] - 0s 35ms/step - loss: 0.0030 - accuracy: 1.0000 - val_loss: 0.0012 - val_accuracy: 1.0000\n",
      "Epoch 17/100\n",
      "3/3 [==============================] - 0s 29ms/step - loss: 0.0024 - accuracy: 1.0000 - val_loss: 4.0283e-04 - val_accuracy: 1.0000\n",
      "Epoch 18/100\n",
      "3/3 [==============================] - 0s 33ms/step - loss: 0.0047 - accuracy: 1.0000 - val_loss: 2.4405e-04 - val_accuracy: 1.0000\n",
      "Epoch 19/100\n",
      "3/3 [==============================] - 0s 30ms/step - loss: 6.3061e-04 - accuracy: 1.0000 - val_loss: 2.0369e-04 - val_accuracy: 1.0000\n",
      "Epoch 20/100\n",
      "3/3 [==============================] - 0s 35ms/step - loss: 0.0029 - accuracy: 1.0000 - val_loss: 1.6492e-04 - val_accuracy: 1.0000\n",
      "Epoch 21/100\n",
      "3/3 [==============================] - 0s 28ms/step - loss: 7.8566e-04 - accuracy: 1.0000 - val_loss: 1.4762e-04 - val_accuracy: 1.0000\n",
      "Epoch 22/100\n",
      "3/3 [==============================] - 0s 32ms/step - loss: 3.6535e-04 - accuracy: 1.0000 - val_loss: 1.5006e-04 - val_accuracy: 1.0000\n",
      "Epoch 23/100\n",
      "3/3 [==============================] - 0s 31ms/step - loss: 5.9773e-04 - accuracy: 1.0000 - val_loss: 1.5507e-04 - val_accuracy: 1.0000\n",
      "Epoch 24/100\n",
      "3/3 [==============================] - 0s 31ms/step - loss: 0.0016 - accuracy: 1.0000 - val_loss: 2.3463e-04 - val_accuracy: 1.0000\n",
      "Epoch 25/100\n",
      "3/3 [==============================] - 0s 32ms/step - loss: 0.0010 - accuracy: 1.0000 - val_loss: 2.4067e-04 - val_accuracy: 1.0000\n",
      "Epoch 26/100\n",
      "3/3 [==============================] - 0s 30ms/step - loss: 3.2706e-04 - accuracy: 1.0000 - val_loss: 2.1100e-04 - val_accuracy: 1.0000\n",
      "Epoch 27/100\n",
      "3/3 [==============================] - 0s 32ms/step - loss: 4.3364e-04 - accuracy: 1.0000 - val_loss: 1.5139e-04 - val_accuracy: 1.0000\n",
      "Epoch 28/100\n",
      "3/3 [==============================] - 0s 30ms/step - loss: 5.8743e-04 - accuracy: 1.0000 - val_loss: 1.0369e-04 - val_accuracy: 1.0000\n",
      "Epoch 29/100\n",
      "3/3 [==============================] - 0s 32ms/step - loss: 9.0859e-04 - accuracy: 1.0000 - val_loss: 8.7804e-05 - val_accuracy: 1.0000\n",
      "Epoch 30/100\n",
      "3/3 [==============================] - 0s 30ms/step - loss: 4.8706e-04 - accuracy: 1.0000 - val_loss: 8.2787e-05 - val_accuracy: 1.0000\n",
      "Epoch 31/100\n",
      "3/3 [==============================] - 0s 32ms/step - loss: 1.5139e-04 - accuracy: 1.0000 - val_loss: 7.8984e-05 - val_accuracy: 1.0000\n",
      "Epoch 32/100\n",
      "3/3 [==============================] - 0s 30ms/step - loss: 7.4625e-04 - accuracy: 1.0000 - val_loss: 7.3201e-05 - val_accuracy: 1.0000\n",
      "Epoch 33/100\n",
      "3/3 [==============================] - 0s 31ms/step - loss: 6.7415e-04 - accuracy: 1.0000 - val_loss: 6.7856e-05 - val_accuracy: 1.0000\n",
      "Epoch 34/100\n",
      "3/3 [==============================] - 0s 36ms/step - loss: 2.8093e-04 - accuracy: 1.0000 - val_loss: 6.5842e-05 - val_accuracy: 1.0000\n",
      "Epoch 35/100\n",
      "3/3 [==============================] - 0s 33ms/step - loss: 2.8060e-04 - accuracy: 1.0000 - val_loss: 6.4963e-05 - val_accuracy: 1.0000\n",
      "Epoch 36/100\n",
      "3/3 [==============================] - 0s 38ms/step - loss: 4.7947e-04 - accuracy: 1.0000 - val_loss: 6.0302e-05 - val_accuracy: 1.0000\n",
      "Epoch 37/100\n",
      "3/3 [==============================] - 0s 40ms/step - loss: 5.4787e-04 - accuracy: 1.0000 - val_loss: 5.4789e-05 - val_accuracy: 1.0000\n",
      "Epoch 38/100\n",
      "3/3 [==============================] - 0s 43ms/step - loss: 7.2885e-04 - accuracy: 1.0000 - val_loss: 5.2484e-05 - val_accuracy: 1.0000\n",
      "Epoch 39/100\n",
      "3/3 [==============================] - 0s 43ms/step - loss: 4.5194e-04 - accuracy: 1.0000 - val_loss: 5.1779e-05 - val_accuracy: 1.0000\n",
      "Epoch 40/100\n",
      "3/3 [==============================] - 0s 32ms/step - loss: 3.6427e-04 - accuracy: 1.0000 - val_loss: 4.8040e-05 - val_accuracy: 1.0000\n",
      "Epoch 41/100\n",
      "3/3 [==============================] - 0s 49ms/step - loss: 3.9342e-04 - accuracy: 1.0000 - val_loss: 4.5350e-05 - val_accuracy: 1.0000\n",
      "Epoch 42/100\n",
      "3/3 [==============================] - 0s 41ms/step - loss: 2.4656e-04 - accuracy: 1.0000 - val_loss: 4.6962e-05 - val_accuracy: 1.0000\n",
      "Epoch 43/100\n",
      "3/3 [==============================] - 0s 47ms/step - loss: 1.3292e-04 - accuracy: 1.0000 - val_loss: 4.8868e-05 - val_accuracy: 1.0000\n",
      "Epoch 44/100\n",
      "3/3 [==============================] - 0s 35ms/step - loss: 3.7664e-04 - accuracy: 1.0000 - val_loss: 5.4093e-05 - val_accuracy: 1.0000\n",
      "Epoch 45/100\n",
      "3/3 [==============================] - 0s 30ms/step - loss: 1.8971e-04 - accuracy: 1.0000 - val_loss: 5.4698e-05 - val_accuracy: 1.0000\n",
      "Epoch 46/100\n",
      "3/3 [==============================] - 0s 30ms/step - loss: 9.9319e-05 - accuracy: 1.0000 - val_loss: 5.1086e-05 - val_accuracy: 1.0000\n",
      "Epoch 47/100\n",
      "3/3 [==============================] - 0s 33ms/step - loss: 3.3572e-04 - accuracy: 1.0000 - val_loss: 4.2814e-05 - val_accuracy: 1.0000\n",
      "Epoch 48/100\n",
      "3/3 [==============================] - 0s 31ms/step - loss: 1.1459e-04 - accuracy: 1.0000 - val_loss: 3.6899e-05 - val_accuracy: 1.0000\n",
      "Epoch 49/100\n",
      "3/3 [==============================] - 0s 48ms/step - loss: 1.1947e-04 - accuracy: 1.0000 - val_loss: 3.3714e-05 - val_accuracy: 1.0000\n",
      "Epoch 50/100\n",
      "3/3 [==============================] - 0s 32ms/step - loss: 3.5947e-04 - accuracy: 1.0000 - val_loss: 3.1762e-05 - val_accuracy: 1.0000\n",
      "Epoch 51/100\n",
      "3/3 [==============================] - 0s 38ms/step - loss: 8.6919e-05 - accuracy: 1.0000 - val_loss: 3.1857e-05 - val_accuracy: 1.0000\n",
      "Epoch 52/100\n",
      "3/3 [==============================] - 0s 33ms/step - loss: 2.5559e-04 - accuracy: 1.0000 - val_loss: 3.0925e-05 - val_accuracy: 1.0000\n",
      "Epoch 53/100\n",
      "3/3 [==============================] - 0s 36ms/step - loss: 1.0169e-04 - accuracy: 1.0000 - val_loss: 2.9695e-05 - val_accuracy: 1.0000\n",
      "Epoch 54/100\n",
      "3/3 [==============================] - 0s 31ms/step - loss: 2.3693e-04 - accuracy: 1.0000 - val_loss: 2.7952e-05 - val_accuracy: 1.0000\n",
      "Epoch 55/100\n",
      "3/3 [==============================] - 0s 34ms/step - loss: 3.0652e-04 - accuracy: 1.0000 - val_loss: 2.6685e-05 - val_accuracy: 1.0000\n",
      "Epoch 56/100\n",
      "3/3 [==============================] - 0s 33ms/step - loss: 1.0809e-04 - accuracy: 1.0000 - val_loss: 2.7262e-05 - val_accuracy: 1.0000\n",
      "Epoch 57/100\n",
      "3/3 [==============================] - 0s 31ms/step - loss: 2.2368e-04 - accuracy: 1.0000 - val_loss: 2.8478e-05 - val_accuracy: 1.0000\n",
      "Epoch 58/100\n",
      "3/3 [==============================] - 0s 31ms/step - loss: 6.2019e-05 - accuracy: 1.0000 - val_loss: 2.8045e-05 - val_accuracy: 1.0000\n",
      "Epoch 59/100\n",
      "3/3 [==============================] - 0s 35ms/step - loss: 2.5928e-04 - accuracy: 1.0000 - val_loss: 2.5508e-05 - val_accuracy: 1.0000\n",
      "Epoch 60/100\n",
      "3/3 [==============================] - 0s 44ms/step - loss: 1.2088e-04 - accuracy: 1.0000 - val_loss: 2.2971e-05 - val_accuracy: 1.0000\n",
      "Epoch 61/100\n",
      "3/3 [==============================] - 0s 45ms/step - loss: 5.9973e-05 - accuracy: 1.0000 - val_loss: 2.1974e-05 - val_accuracy: 1.0000\n",
      "Epoch 62/100\n",
      "3/3 [==============================] - 0s 39ms/step - loss: 1.4351e-04 - accuracy: 1.0000 - val_loss: 2.1619e-05 - val_accuracy: 1.0000\n",
      "Epoch 63/100\n",
      "3/3 [==============================] - 0s 42ms/step - loss: 1.4981e-04 - accuracy: 1.0000 - val_loss: 2.1051e-05 - val_accuracy: 1.0000\n",
      "Epoch 64/100\n",
      "3/3 [==============================] - 0s 40ms/step - loss: 7.7026e-05 - accuracy: 1.0000 - val_loss: 2.0312e-05 - val_accuracy: 1.0000\n",
      "Epoch 65/100\n",
      "3/3 [==============================] - 0s 40ms/step - loss: 1.8134e-04 - accuracy: 1.0000 - val_loss: 1.9496e-05 - val_accuracy: 1.0000\n",
      "Epoch 66/100\n",
      "3/3 [==============================] - 0s 41ms/step - loss: 9.1195e-05 - accuracy: 1.0000 - val_loss: 1.9089e-05 - val_accuracy: 1.0000\n",
      "Epoch 67/100\n",
      "3/3 [==============================] - 0s 35ms/step - loss: 9.1134e-05 - accuracy: 1.0000 - val_loss: 1.9119e-05 - val_accuracy: 1.0000\n",
      "Epoch 68/100\n",
      "3/3 [==============================] - 0s 37ms/step - loss: 1.8734e-04 - accuracy: 1.0000 - val_loss: 2.0240e-05 - val_accuracy: 1.0000\n",
      "Epoch 69/100\n",
      "3/3 [==============================] - 0s 36ms/step - loss: 1.4125e-04 - accuracy: 1.0000 - val_loss: 2.4023e-05 - val_accuracy: 1.0000\n",
      "Epoch 70/100\n",
      "3/3 [==============================] - 0s 62ms/step - loss: 2.2374e-04 - accuracy: 1.0000 - val_loss: 2.4615e-05 - val_accuracy: 1.0000\n",
      "Epoch 71/100\n",
      "3/3 [==============================] - 0s 33ms/step - loss: 2.6769e-04 - accuracy: 1.0000 - val_loss: 2.2274e-05 - val_accuracy: 1.0000\n",
      "Epoch 72/100\n",
      "3/3 [==============================] - 0s 39ms/step - loss: 2.0302e-04 - accuracy: 1.0000 - val_loss: 1.8465e-05 - val_accuracy: 1.0000\n",
      "Epoch 73/100\n",
      "3/3 [==============================] - 0s 33ms/step - loss: 1.3786e-04 - accuracy: 1.0000 - val_loss: 1.5349e-05 - val_accuracy: 1.0000\n",
      "Epoch 74/100\n",
      "3/3 [==============================] - 0s 38ms/step - loss: 3.7762e-05 - accuracy: 1.0000 - val_loss: 1.4380e-05 - val_accuracy: 1.0000\n",
      "Epoch 75/100\n",
      "3/3 [==============================] - 0s 31ms/step - loss: 4.3233e-05 - accuracy: 1.0000 - val_loss: 1.4423e-05 - val_accuracy: 1.0000\n",
      "Epoch 76/100\n",
      "3/3 [==============================] - 0s 33ms/step - loss: 1.1174e-04 - accuracy: 1.0000 - val_loss: 1.4261e-05 - val_accuracy: 1.0000\n",
      "Epoch 77/100\n",
      "3/3 [==============================] - 0s 30ms/step - loss: 7.1873e-05 - accuracy: 1.0000 - val_loss: 1.3577e-05 - val_accuracy: 1.0000\n",
      "Epoch 78/100\n",
      "3/3 [==============================] - 0s 36ms/step - loss: 7.7515e-05 - accuracy: 1.0000 - val_loss: 1.2855e-05 - val_accuracy: 1.0000\n",
      "Epoch 79/100\n",
      "3/3 [==============================] - 0s 34ms/step - loss: 6.9690e-05 - accuracy: 1.0000 - val_loss: 1.2169e-05 - val_accuracy: 1.0000\n",
      "Epoch 80/100\n",
      "3/3 [==============================] - 0s 33ms/step - loss: 8.5968e-05 - accuracy: 1.0000 - val_loss: 1.1856e-05 - val_accuracy: 1.0000\n",
      "Epoch 81/100\n",
      "3/3 [==============================] - 0s 31ms/step - loss: 3.1104e-04 - accuracy: 1.0000 - val_loss: 1.2506e-05 - val_accuracy: 1.0000\n",
      "Epoch 82/100\n",
      "3/3 [==============================] - 0s 31ms/step - loss: 9.4697e-05 - accuracy: 1.0000 - val_loss: 1.5308e-05 - val_accuracy: 1.0000\n",
      "Epoch 83/100\n",
      "3/3 [==============================] - 0s 44ms/step - loss: 1.5837e-04 - accuracy: 1.0000 - val_loss: 1.6756e-05 - val_accuracy: 1.0000\n",
      "Epoch 84/100\n",
      "3/3 [==============================] - 0s 31ms/step - loss: 7.0362e-05 - accuracy: 1.0000 - val_loss: 1.4884e-05 - val_accuracy: 1.0000\n",
      "Epoch 85/100\n",
      "3/3 [==============================] - 0s 30ms/step - loss: 7.8587e-05 - accuracy: 1.0000 - val_loss: 1.2839e-05 - val_accuracy: 1.0000\n",
      "Epoch 86/100\n",
      "3/3 [==============================] - 0s 30ms/step - loss: 4.4379e-05 - accuracy: 1.0000 - val_loss: 1.0856e-05 - val_accuracy: 1.0000\n",
      "Epoch 87/100\n",
      "3/3 [==============================] - 0s 31ms/step - loss: 3.6977e-05 - accuracy: 1.0000 - val_loss: 9.9685e-06 - val_accuracy: 1.0000\n",
      "Epoch 88/100\n",
      "3/3 [==============================] - 0s 31ms/step - loss: 3.3616e-04 - accuracy: 1.0000 - val_loss: 1.0293e-05 - val_accuracy: 1.0000\n",
      "Epoch 89/100\n",
      "3/3 [==============================] - 0s 36ms/step - loss: 7.0940e-05 - accuracy: 1.0000 - val_loss: 1.1791e-05 - val_accuracy: 1.0000\n",
      "Epoch 90/100\n",
      "3/3 [==============================] - 0s 31ms/step - loss: 1.4802e-04 - accuracy: 1.0000 - val_loss: 1.0905e-05 - val_accuracy: 1.0000\n",
      "Epoch 91/100\n",
      "3/3 [==============================] - 0s 33ms/step - loss: 7.2979e-05 - accuracy: 1.0000 - val_loss: 1.0436e-05 - val_accuracy: 1.0000\n",
      "Epoch 92/100\n",
      "3/3 [==============================] - 0s 30ms/step - loss: 5.3409e-05 - accuracy: 1.0000 - val_loss: 1.0018e-05 - val_accuracy: 1.0000\n",
      "Epoch 93/100\n",
      "3/3 [==============================] - 0s 32ms/step - loss: 1.7896e-05 - accuracy: 1.0000 - val_loss: 9.8567e-06 - val_accuracy: 1.0000\n",
      "Epoch 94/100\n",
      "3/3 [==============================] - 0s 31ms/step - loss: 6.6797e-04 - accuracy: 1.0000 - val_loss: 9.2842e-06 - val_accuracy: 1.0000\n",
      "Epoch 95/100\n",
      "3/3 [==============================] - 0s 32ms/step - loss: 5.2883e-05 - accuracy: 1.0000 - val_loss: 1.6991e-05 - val_accuracy: 1.0000\n",
      "Epoch 96/100\n",
      "3/3 [==============================] - 0s 32ms/step - loss: 1.9589e-04 - accuracy: 1.0000 - val_loss: 2.5210e-05 - val_accuracy: 1.0000\n",
      "Epoch 97/100\n",
      "3/3 [==============================] - 0s 27ms/step - loss: 5.5663e-04 - accuracy: 1.0000 - val_loss: 1.5847e-05 - val_accuracy: 1.0000\n",
      "Epoch 98/100\n",
      "3/3 [==============================] - 0s 29ms/step - loss: 5.5013e-05 - accuracy: 1.0000 - val_loss: 1.0351e-05 - val_accuracy: 1.0000\n",
      "Epoch 99/100\n",
      "3/3 [==============================] - 0s 30ms/step - loss: 4.8726e-05 - accuracy: 1.0000 - val_loss: 8.9841e-06 - val_accuracy: 1.0000\n",
      "Epoch 100/100\n",
      "3/3 [==============================] - 0s 29ms/step - loss: 5.6946e-05 - accuracy: 1.0000 - val_loss: 9.6710e-06 - val_accuracy: 1.0000\n"
     ]
    }
   ],
   "source": [
    "H = model.fit(x_train, y_train, validation_data=(x_test, y_test), \n",
    "          epochs=max_epochs, batch_size=32)"
   ]
  },
  {
   "cell_type": "code",
   "execution_count": 15,
   "metadata": {},
   "outputs": [
    {
     "data": {
      "image/png": "[encoded data removed]",
      "text/plain": [
       "<Figure size 432x288 with 1 Axes>"
      ]
     },
     "metadata": {},
     "output_type": "display_data"
    }
   ],
   "source": [
    "N = np.arange(0, max_epochs)\n",
    "plt.style.use(\"ggplot\")\n",
    "plt.figure()\n",
    "plt.plot(N, H.history[\"loss\"], label=\"train_loss\")\n",
    "plt.plot(N, H.history[\"val_loss\"], label=\"val_loss\")\n",
    "#plt.plot(N, H.history[\"accuracy\"], label=\"train_acc\")\n",
    "#plt.plot(N, H.history[\"val_accuracy\"], label=\"val_acc\")\n",
    "plt.xlabel(\"Epoch #\")\n",
    "plt.legend()\n",
    "plt.show()"
   ]
  },
  {
   "cell_type": "markdown",
   "metadata": {},
   "source": [
    "<h3>7. Evaluate the Model</h3>"
   ]
  },
  {
   "cell_type": "code",
   "execution_count": 16,
   "metadata": {},
   "outputs": [
    {
     "name": "stdout",
     "output_type": "stream",
     "text": [
      "              precision    recall  f1-score   support\n",
      "\n",
      "daun kemangi       1.00      1.00      1.00         8\n",
      " Daun Nangka       1.00      1.00      1.00        12\n",
      "\n",
      "    accuracy                           1.00        20\n",
      "   macro avg       1.00      1.00      1.00        20\n",
      "weighted avg       1.00      1.00      1.00        20\n",
      "\n"
     ]
    }
   ],
   "source": [
    "# menghitung nilai akurasi model terhadap data test\n",
    "predictions = model.predict(x_test, batch_size=32)\n",
    "target = (predictions > 0.5).astype(np.int64)\n",
    "print(classification_report(y_test, target, target_names=label_list))"
   ]
  },
  {
   "cell_type": "code",
   "execution_count": 17,
   "metadata": {},
   "outputs": [
    {
     "name": "stdout",
     "output_type": "stream",
     "text": [
      "[[0.0168325]]\n"
     ]
    }
   ],
   "source": [
    "# uji model menggunakan image lain\n",
    "queryPath = imagePaths+'query_daun kemangi.jpg'\n",
    "query = cv2.imread(queryPath)\n",
    "output = query.copy()\n",
    "query = cv2.resize(query, (32, 32))\n",
    "q = []\n",
    "q.append(query)\n",
    "q = np.array(q, dtype='float') / 255.0\n",
    "\n",
    "q_pred = model.predict(q)\n",
    "print(q_pred)"
   ]
  },
  {
   "cell_type": "code",
   "execution_count": 18,
   "metadata": {},
   "outputs": [
    {
     "ename": "error",
     "evalue": "OpenCV(4.5.4-dev) D:\\a\\opencv-python\\opencv-python\\opencv\\modules\\highgui\\src\\window_w32.cpp:1261: error: (-27:Null pointer) NULL window: 'Output' in function 'cvDestroyWindow'\n",
     "output_type": "error",
     "traceback": [
      "\u001b[1;31m---------------------------------------------------------------------------\u001b[0m",
      "\u001b[1;31merror\u001b[0m                                     Traceback (most recent call last)",
      "\u001b[1;32m~\\AppData\\Local\\Temp/ipykernel_10208/139330704.py\u001b[0m in \u001b[0;36m<module>\u001b[1;34m\u001b[0m\n\u001b[0;32m      9\u001b[0m \u001b[0mcv2\u001b[0m\u001b[1;33m.\u001b[0m\u001b[0mimshow\u001b[0m\u001b[1;33m(\u001b[0m\u001b[1;34m'Output'\u001b[0m\u001b[1;33m,\u001b[0m \u001b[0moutput\u001b[0m\u001b[1;33m)\u001b[0m\u001b[1;33m\u001b[0m\u001b[1;33m\u001b[0m\u001b[0m\n\u001b[0;32m     10\u001b[0m \u001b[0mcv2\u001b[0m\u001b[1;33m.\u001b[0m\u001b[0mwaitKey\u001b[0m\u001b[1;33m(\u001b[0m\u001b[1;33m)\u001b[0m \u001b[1;31m# image tidak akan diclose,sebelum user menekan sembarang tombol\u001b[0m\u001b[1;33m\u001b[0m\u001b[1;33m\u001b[0m\u001b[0m\n\u001b[1;32m---> 11\u001b[1;33m \u001b[0mcv2\u001b[0m\u001b[1;33m.\u001b[0m\u001b[0mdestroyWindow\u001b[0m\u001b[1;33m(\u001b[0m\u001b[1;34m'Output'\u001b[0m\u001b[1;33m)\u001b[0m \u001b[1;31m# image akan diclose\u001b[0m\u001b[1;33m\u001b[0m\u001b[1;33m\u001b[0m\u001b[0m\n\u001b[0m",
      "\u001b[1;31merror\u001b[0m: OpenCV(4.5.4-dev) D:\\a\\opencv-python\\opencv-python\\opencv\\modules\\highgui\\src\\window_w32.cpp:1261: error: (-27:Null pointer) NULL window: 'Output' in function 'cvDestroyWindow'\n"
     ]
    }
   ],
   "source": [
    "if q_pred<=0.5 :\n",
    "    target = \"daun kemangi\"\n",
    "else :\n",
    "    target = \"Daun Nangka\"\n",
    "text = \"{}\".format(target)\n",
    "cv2.putText(output, text, (10, 30), cv2.FONT_HERSHEY_SIMPLEX, 0.7, (0, 0, 255), 2)\n",
    " \n",
    "# menampilkan output image\n",
    "cv2.imshow('Output', output)\n",
    "cv2.waitKey() # image tidak akan diclose,sebelum user menekan sembarang tombol\n",
    "cv2.destroyWindow('Output') # image akan diclose"
   ]
  },
  {
   "cell_type": "code",
   "execution_count": null,
   "metadata": {},
   "outputs": [],
   "source": []
  }
 ],
 "metadata": {
  "kernelspec": {
   "display_name": "Python 3",
   "language": "python",
   "name": "python3"
  },
  "language_info": {
   "codemirror_mode": {
    "name": "ipython",
    "version": 3
   },
   "file_extension": ".py",
   "mimetype": "text/x-python",
   "name": "python",
   "nbconvert_exporter": "python",
   "pygments_lexer": "ipython3",
   "version": "3.9.4"
  }
 },
 "nbformat": 4,
 "nbformat_minor": 4
}
