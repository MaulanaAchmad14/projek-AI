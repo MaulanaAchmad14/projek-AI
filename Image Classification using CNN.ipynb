{
 "cells": [
  {
   "cell_type": "markdown",
   "metadata": {},
   "source": [
    "<h3>1. Import module yang dibutuhkan</h3>"
   ]
  },
  {
   "cell_type": "code",
   "execution_count": 1,
   "metadata": {},
   "outputs": [],
   "source": [
    "from sklearn.model_selection import train_test_split\n",
    "from sklearn.preprocessing import LabelEncoder\n",
    "from sklearn.metrics import classification_report\n",
    "from tensorflow.keras.models import Sequential\n",
    "from tensorflow.keras.layers import InputLayer, Flatten, Dense, Conv2D, MaxPool2D, Dropout\n",
    "from tensorflow.keras.optimizers import Adam\n",
    "import numpy as np\n",
    "import cv2\n",
    "import glob\n",
    "import matplotlib.pyplot as plt"
   ]
  },
  {
   "cell_type": "markdown",
   "metadata": {},
   "source": [
    "<h3>2. Load Dataset</h3>"
   ]
  },
  {
   "cell_type": "code",
   "execution_count": 2,
   "metadata": {},
   "outputs": [],
   "source": [
    "imagePaths = 'Dataset\\\\'\n",
    "label_list = ['daun kemangi', 'Daun Nangka']\n",
    "data = []\n",
    "labels = []"
   ]
  },
  {
   "cell_type": "code",
   "execution_count": 3,
   "metadata": {},
   "outputs": [],
   "source": [
    "for label in label_list:\n",
    "    for imagePath in glob.glob(imagePaths+label+'\\\\*.jpg'):\n",
    "        #print(imagePath)\n",
    "        image = cv2.imread(imagePath)\n",
    "        image = cv2.resize(image, (32, 32))\n",
    "        data.append(image)\n",
    "        labels.append(label)"
   ]
  },
  {
   "cell_type": "code",
   "execution_count": 4,
   "metadata": {},
   "outputs": [
    {
     "data": {
      "text/plain": [
       "(100, 32, 32, 3)"
      ]
     },
     "execution_count": 4,
     "metadata": {},
     "output_type": "execute_result"
    }
   ],
   "source": [
    "np.array(data).shape"
   ]
  },
  {
   "cell_type": "markdown",
   "metadata": {},
   "source": [
    "<h3>3. Data Preprocessing</h3>"
   ]
  },
  {
   "cell_type": "code",
   "execution_count": 5,
   "metadata": {},
   "outputs": [],
   "source": [
    "# ubah type data dari list menjadi array\n",
    "# ubah nilai dari tiap pixel menjadi range [0..1]\n",
    "data = np.array(data, dtype='float') / 255.0\n",
    "labels = np.array(labels)"
   ]
  },
  {
   "cell_type": "code",
   "execution_count": 6,
   "metadata": {},
   "outputs": [
    {
     "name": "stdout",
     "output_type": "stream",
     "text": [
      "['daun kemangi' 'daun kemangi' 'daun kemangi' 'daun kemangi'\n",
      " 'daun kemangi' 'daun kemangi' 'daun kemangi' 'daun kemangi'\n",
      " 'daun kemangi' 'daun kemangi' 'daun kemangi' 'daun kemangi'\n",
      " 'daun kemangi' 'daun kemangi' 'daun kemangi' 'daun kemangi'\n",
      " 'daun kemangi' 'daun kemangi' 'daun kemangi' 'daun kemangi'\n",
      " 'daun kemangi' 'daun kemangi' 'daun kemangi' 'daun kemangi'\n",
      " 'daun kemangi' 'daun kemangi' 'daun kemangi' 'daun kemangi'\n",
      " 'daun kemangi' 'daun kemangi' 'daun kemangi' 'daun kemangi'\n",
      " 'daun kemangi' 'daun kemangi' 'daun kemangi' 'daun kemangi'\n",
      " 'daun kemangi' 'daun kemangi' 'daun kemangi' 'daun kemangi'\n",
      " 'daun kemangi' 'daun kemangi' 'daun kemangi' 'daun kemangi'\n",
      " 'daun kemangi' 'daun kemangi' 'daun kemangi' 'daun kemangi'\n",
      " 'daun kemangi' 'daun kemangi' 'Daun Nangka' 'Daun Nangka' 'Daun Nangka'\n",
      " 'Daun Nangka' 'Daun Nangka' 'Daun Nangka' 'Daun Nangka' 'Daun Nangka'\n",
      " 'Daun Nangka' 'Daun Nangka' 'Daun Nangka' 'Daun Nangka' 'Daun Nangka'\n",
      " 'Daun Nangka' 'Daun Nangka' 'Daun Nangka' 'Daun Nangka' 'Daun Nangka'\n",
      " 'Daun Nangka' 'Daun Nangka' 'Daun Nangka' 'Daun Nangka' 'Daun Nangka'\n",
      " 'Daun Nangka' 'Daun Nangka' 'Daun Nangka' 'Daun Nangka' 'Daun Nangka'\n",
      " 'Daun Nangka' 'Daun Nangka' 'Daun Nangka' 'Daun Nangka' 'Daun Nangka'\n",
      " 'Daun Nangka' 'Daun Nangka' 'Daun Nangka' 'Daun Nangka' 'Daun Nangka'\n",
      " 'Daun Nangka' 'Daun Nangka' 'Daun Nangka' 'Daun Nangka' 'Daun Nangka'\n",
      " 'Daun Nangka' 'Daun Nangka' 'Daun Nangka' 'Daun Nangka' 'Daun Nangka'\n",
      " 'Daun Nangka' 'Daun Nangka']\n"
     ]
    }
   ],
   "source": [
    "print(labels)"
   ]
  },
  {
   "cell_type": "code",
   "execution_count": 7,
   "metadata": {},
   "outputs": [
    {
     "name": "stdout",
     "output_type": "stream",
     "text": [
      "[1 1 1 1 1 1 1 1 1 1 1 1 1 1 1 1 1 1 1 1 1 1 1 1 1 1 1 1 1 1 1 1 1 1 1 1 1\n",
      " 1 1 1 1 1 1 1 1 1 1 1 1 1 0 0 0 0 0 0 0 0 0 0 0 0 0 0 0 0 0 0 0 0 0 0 0 0\n",
      " 0 0 0 0 0 0 0 0 0 0 0 0 0 0 0 0 0 0 0 0 0 0 0 0 0 0]\n"
     ]
    }
   ],
   "source": [
    "# ubah nilai dari labels menjadi binary\n",
    "lb = LabelEncoder()\n",
    "labels = lb.fit_transform(labels)\n",
    "print(labels)"
   ]
  },
  {
   "cell_type": "markdown",
   "metadata": {},
   "source": [
    "<h3>4. Split Dataset</h3>"
   ]
  },
  {
   "cell_type": "code",
   "execution_count": 8,
   "metadata": {},
   "outputs": [],
   "source": [
    "x_train, x_test, y_train, y_test = train_test_split(data, labels, test_size=0.2, random_state=42)"
   ]
  },
  {
   "cell_type": "code",
   "execution_count": 9,
   "metadata": {},
   "outputs": [
    {
     "name": "stdout",
     "output_type": "stream",
     "text": [
      "Ukuran data train = (80, 32, 32, 3)\n",
      "Ukuran data test = (20, 32, 32, 3)\n"
     ]
    }
   ],
   "source": [
    "print('Ukuran data train =', x_train.shape)\n",
    "print('Ukuran data test =', x_test.shape)"
   ]
  },
  {
   "cell_type": "markdown",
   "metadata": {},
   "source": [
    "<h3>5. Build CNN Architecture</h3>"
   ]
  },
  {
   "cell_type": "code",
   "execution_count": 10,
   "metadata": {},
   "outputs": [],
   "source": [
    "model = Sequential()\n",
    "# Extracted Feature Layer\n",
    "model.add(InputLayer(input_shape=[32,32,3]))\n",
    "model.add(Conv2D(filters=32, kernel_size=2, strides=1, padding='same', activation='relu'))\n",
    "model.add(MaxPool2D(pool_size=2, padding='same'))\n",
    "model.add(Conv2D(filters=50, kernel_size=2, strides=1, padding='same', activation='relu'))\n",
    "model.add(MaxPool2D(pool_size=2, padding='same'))\n",
    "model.add(Dropout(0.25))\n",
    "model.add(Flatten())\n",
    "# Fully Connected Layer\n",
    "model.add(Dense(512, activation='relu'))\n",
    "model.add(Dropout(0.5))\n",
    "model.add(Dense(1, activation='sigmoid'))"
   ]
  },
  {
   "cell_type": "code",
   "execution_count": 11,
   "metadata": {},
   "outputs": [
    {
     "name": "stdout",
     "output_type": "stream",
     "text": [
      "Model: \"sequential\"\n",
      "_________________________________________________________________\n",
      " Layer (type)                Output Shape              Param #   \n",
      "=================================================================\n",
      " conv2d (Conv2D)             (None, 32, 32, 32)        416       \n",
      "                                                                 \n",
      " max_pooling2d (MaxPooling2D  (None, 16, 16, 32)       0         \n",
      " )                                                               \n",
      "                                                                 \n",
      " conv2d_1 (Conv2D)           (None, 16, 16, 50)        6450      \n",
      "                                                                 \n",
      " max_pooling2d_1 (MaxPooling  (None, 8, 8, 50)         0         \n",
      " 2D)                                                             \n",
      "                                                                 \n",
      " dropout (Dropout)           (None, 8, 8, 50)          0         \n",
      "                                                                 \n",
      " flatten (Flatten)           (None, 3200)              0         \n",
      "                                                                 \n",
      " dense (Dense)               (None, 512)               1638912   \n",
      "                                                                 \n",
      " dropout_1 (Dropout)         (None, 512)               0         \n",
      "                                                                 \n",
      " dense_1 (Dense)             (None, 1)                 513       \n",
      "                                                                 \n",
      "=================================================================\n",
      "Total params: 1,646,291\n",
      "Trainable params: 1,646,291\n",
      "Non-trainable params: 0\n",
      "_________________________________________________________________\n"
     ]
    }
   ],
   "source": [
    "model.summary()"
   ]
  },
  {
   "cell_type": "code",
   "execution_count": 12,
   "metadata": {},
   "outputs": [],
   "source": [
    "# tentukan hyperparameter\n",
    "lr = 0.001\n",
    "max_epochs = 100\n",
    "opt_funct = Adam(learning_rate=lr)"
   ]
  },
  {
   "cell_type": "code",
   "execution_count": 13,
   "metadata": {},
   "outputs": [],
   "source": [
    "# compile arsitektur yang telah dibuat\n",
    "model.compile(loss = 'binary_crossentropy', \n",
    "              optimizer = opt_funct, \n",
    "              metrics = ['accuracy'])"
   ]
  },
  {
   "cell_type": "markdown",
   "metadata": {},
   "source": [
    "<h3>6. Train Model</h3>"
   ]
  },
  {
   "cell_type": "code",
   "execution_count": 14,
   "metadata": {},
   "outputs": [
    {
     "name": "stdout",
     "output_type": "stream",
     "text": [
      "Epoch 1/100\n",
      "3/3 [==============================] - 2s 358ms/step - loss: 0.6056 - accuracy: 0.6625 - val_loss: 0.4566 - val_accuracy: 0.9500\n",
      "Epoch 2/100\n",
      "3/3 [==============================] - 0s 58ms/step - loss: 0.4285 - accuracy: 0.8875 - val_loss: 0.2808 - val_accuracy: 1.0000\n",
      "Epoch 3/100\n",
      "3/3 [==============================] - 0s 52ms/step - loss: 0.1908 - accuracy: 0.9750 - val_loss: 0.1258 - val_accuracy: 1.0000\n",
      "Epoch 4/100\n",
      "3/3 [==============================] - 0s 48ms/step - loss: 0.0919 - accuracy: 0.9875 - val_loss: 0.0580 - val_accuracy: 1.0000\n",
      "Epoch 5/100\n",
      "3/3 [==============================] - 0s 59ms/step - loss: 0.0538 - accuracy: 0.9875 - val_loss: 0.0131 - val_accuracy: 1.0000\n",
      "Epoch 6/100\n",
      "3/3 [==============================] - 0s 54ms/step - loss: 0.0342 - accuracy: 0.9875 - val_loss: 0.0088 - val_accuracy: 1.0000\n",
      "Epoch 7/100\n",
      "3/3 [==============================] - 0s 51ms/step - loss: 0.0144 - accuracy: 1.0000 - val_loss: 0.0026 - val_accuracy: 1.0000\n",
      "Epoch 8/100\n",
      "3/3 [==============================] - 0s 31ms/step - loss: 0.0492 - accuracy: 0.9875 - val_loss: 0.0023 - val_accuracy: 1.0000\n",
      "Epoch 9/100\n",
      "3/3 [==============================] - 0s 44ms/step - loss: 0.0075 - accuracy: 1.0000 - val_loss: 9.9102e-04 - val_accuracy: 1.0000\n",
      "Epoch 10/100\n",
      "3/3 [==============================] - 0s 54ms/step - loss: 0.0186 - accuracy: 0.9875 - val_loss: 0.0017 - val_accuracy: 1.0000\n",
      "Epoch 11/100\n",
      "3/3 [==============================] - 0s 55ms/step - loss: 0.0067 - accuracy: 1.0000 - val_loss: 3.1872e-04 - val_accuracy: 1.0000\n",
      "Epoch 12/100\n",
      "3/3 [==============================] - 0s 65ms/step - loss: 0.0075 - accuracy: 1.0000 - val_loss: 4.8714e-04 - val_accuracy: 1.0000\n",
      "Epoch 13/100\n",
      "3/3 [==============================] - 0s 57ms/step - loss: 0.0085 - accuracy: 1.0000 - val_loss: 2.1954e-04 - val_accuracy: 1.0000\n",
      "Epoch 14/100\n",
      "3/3 [==============================] - 0s 59ms/step - loss: 0.0013 - accuracy: 1.0000 - val_loss: 2.3817e-04 - val_accuracy: 1.0000\n",
      "Epoch 15/100\n",
      "3/3 [==============================] - 0s 56ms/step - loss: 0.0015 - accuracy: 1.0000 - val_loss: 4.0851e-04 - val_accuracy: 1.0000\n",
      "Epoch 16/100\n",
      "3/3 [==============================] - 0s 58ms/step - loss: 9.8247e-04 - accuracy: 1.0000 - val_loss: 5.4588e-04 - val_accuracy: 1.0000\n",
      "Epoch 17/100\n",
      "3/3 [==============================] - 0s 64ms/step - loss: 0.0146 - accuracy: 0.9875 - val_loss: 1.5431e-04 - val_accuracy: 1.0000\n",
      "Epoch 18/100\n",
      "3/3 [==============================] - 0s 68ms/step - loss: 7.5054e-04 - accuracy: 1.0000 - val_loss: 1.3408e-04 - val_accuracy: 1.0000\n",
      "Epoch 19/100\n",
      "3/3 [==============================] - 0s 60ms/step - loss: 9.9295e-04 - accuracy: 1.0000 - val_loss: 2.0717e-04 - val_accuracy: 1.0000\n",
      "Epoch 20/100\n",
      "3/3 [==============================] - 0s 57ms/step - loss: 0.0043 - accuracy: 1.0000 - val_loss: 1.7226e-04 - val_accuracy: 1.0000\n",
      "Epoch 21/100\n",
      "3/3 [==============================] - 0s 62ms/step - loss: 0.0018 - accuracy: 1.0000 - val_loss: 1.2625e-04 - val_accuracy: 1.0000\n",
      "Epoch 22/100\n",
      "3/3 [==============================] - 0s 44ms/step - loss: 6.3411e-04 - accuracy: 1.0000 - val_loss: 9.1267e-05 - val_accuracy: 1.0000\n",
      "Epoch 23/100\n",
      "3/3 [==============================] - 0s 60ms/step - loss: 4.0447e-04 - accuracy: 1.0000 - val_loss: 7.2018e-05 - val_accuracy: 1.0000\n",
      "Epoch 24/100\n",
      "3/3 [==============================] - 0s 31ms/step - loss: 0.0015 - accuracy: 1.0000 - val_loss: 6.1651e-05 - val_accuracy: 1.0000\n",
      "Epoch 25/100\n",
      "3/3 [==============================] - 0s 66ms/step - loss: 0.0010 - accuracy: 1.0000 - val_loss: 5.8890e-05 - val_accuracy: 1.0000\n",
      "Epoch 26/100\n",
      "3/3 [==============================] - 0s 55ms/step - loss: 2.0415e-04 - accuracy: 1.0000 - val_loss: 6.2820e-05 - val_accuracy: 1.0000\n",
      "Epoch 27/100\n",
      "3/3 [==============================] - 0s 44ms/step - loss: 6.6570e-04 - accuracy: 1.0000 - val_loss: 6.9938e-05 - val_accuracy: 1.0000\n",
      "Epoch 28/100\n",
      "3/3 [==============================] - 0s 49ms/step - loss: 0.0014 - accuracy: 1.0000 - val_loss: 5.1041e-05 - val_accuracy: 1.0000\n",
      "Epoch 29/100\n",
      "3/3 [==============================] - 0s 44ms/step - loss: 8.2401e-04 - accuracy: 1.0000 - val_loss: 4.1242e-05 - val_accuracy: 1.0000\n",
      "Epoch 30/100\n",
      "3/3 [==============================] - 0s 49ms/step - loss: 1.8417e-04 - accuracy: 1.0000 - val_loss: 3.5295e-05 - val_accuracy: 1.0000\n",
      "Epoch 31/100\n",
      "3/3 [==============================] - 0s 65ms/step - loss: 3.6645e-04 - accuracy: 1.0000 - val_loss: 3.0171e-05 - val_accuracy: 1.0000\n",
      "Epoch 32/100\n",
      "3/3 [==============================] - 0s 61ms/step - loss: 0.0012 - accuracy: 1.0000 - val_loss: 2.6652e-05 - val_accuracy: 1.0000\n",
      "Epoch 33/100\n",
      "3/3 [==============================] - 0s 58ms/step - loss: 1.2846e-04 - accuracy: 1.0000 - val_loss: 2.6619e-05 - val_accuracy: 1.0000\n",
      "Epoch 34/100\n",
      "3/3 [==============================] - 0s 58ms/step - loss: 1.1282e-04 - accuracy: 1.0000 - val_loss: 2.7708e-05 - val_accuracy: 1.0000\n",
      "Epoch 35/100\n",
      "3/3 [==============================] - 0s 52ms/step - loss: 2.0652e-04 - accuracy: 1.0000 - val_loss: 2.8001e-05 - val_accuracy: 1.0000\n",
      "Epoch 36/100\n",
      "3/3 [==============================] - 0s 59ms/step - loss: 1.0245e-04 - accuracy: 1.0000 - val_loss: 2.6567e-05 - val_accuracy: 1.0000\n",
      "Epoch 37/100\n",
      "3/3 [==============================] - 0s 71ms/step - loss: 2.2133e-04 - accuracy: 1.0000 - val_loss: 2.4039e-05 - val_accuracy: 1.0000\n",
      "Epoch 38/100\n",
      "3/3 [==============================] - 0s 54ms/step - loss: 1.7139e-04 - accuracy: 1.0000 - val_loss: 2.0883e-05 - val_accuracy: 1.0000\n",
      "Epoch 39/100\n",
      "3/3 [==============================] - 0s 57ms/step - loss: 1.0395e-04 - accuracy: 1.0000 - val_loss: 1.8520e-05 - val_accuracy: 1.0000\n",
      "Epoch 40/100\n",
      "3/3 [==============================] - 0s 52ms/step - loss: 1.6251e-04 - accuracy: 1.0000 - val_loss: 1.6545e-05 - val_accuracy: 1.0000\n",
      "Epoch 41/100\n",
      "3/3 [==============================] - 0s 61ms/step - loss: 2.0433e-04 - accuracy: 1.0000 - val_loss: 1.4746e-05 - val_accuracy: 1.0000\n",
      "Epoch 42/100\n",
      "3/3 [==============================] - 0s 55ms/step - loss: 1.3646e-04 - accuracy: 1.0000 - val_loss: 1.3524e-05 - val_accuracy: 1.0000\n",
      "Epoch 43/100\n",
      "3/3 [==============================] - 0s 66ms/step - loss: 2.7443e-04 - accuracy: 1.0000 - val_loss: 1.2700e-05 - val_accuracy: 1.0000\n",
      "Epoch 44/100\n",
      "3/3 [==============================] - 0s 58ms/step - loss: 5.1110e-05 - accuracy: 1.0000 - val_loss: 1.2423e-05 - val_accuracy: 1.0000\n",
      "Epoch 45/100\n",
      "3/3 [==============================] - 0s 62ms/step - loss: 1.2616e-04 - accuracy: 1.0000 - val_loss: 1.2402e-05 - val_accuracy: 1.0000\n",
      "Epoch 46/100\n",
      "3/3 [==============================] - 0s 75ms/step - loss: 9.8725e-05 - accuracy: 1.0000 - val_loss: 1.2768e-05 - val_accuracy: 1.0000\n",
      "Epoch 47/100\n",
      "3/3 [==============================] - 0s 43ms/step - loss: 3.0128e-04 - accuracy: 1.0000 - val_loss: 1.1417e-05 - val_accuracy: 1.0000\n",
      "Epoch 48/100\n",
      "3/3 [==============================] - 0s 52ms/step - loss: 2.0287e-04 - accuracy: 1.0000 - val_loss: 9.9159e-06 - val_accuracy: 1.0000\n",
      "Epoch 49/100\n",
      "3/3 [==============================] - 0s 51ms/step - loss: 4.6088e-05 - accuracy: 1.0000 - val_loss: 9.1621e-06 - val_accuracy: 1.0000\n",
      "Epoch 50/100\n",
      "3/3 [==============================] - 0s 52ms/step - loss: 1.9182e-04 - accuracy: 1.0000 - val_loss: 8.7447e-06 - val_accuracy: 1.0000\n",
      "Epoch 51/100\n",
      "3/3 [==============================] - 0s 60ms/step - loss: 1.7601e-04 - accuracy: 1.0000 - val_loss: 8.5225e-06 - val_accuracy: 1.0000\n",
      "Epoch 52/100\n",
      "3/3 [==============================] - 0s 53ms/step - loss: 4.9291e-05 - accuracy: 1.0000 - val_loss: 8.2382e-06 - val_accuracy: 1.0000\n",
      "Epoch 53/100\n",
      "3/3 [==============================] - 0s 50ms/step - loss: 6.4233e-05 - accuracy: 1.0000 - val_loss: 7.9972e-06 - val_accuracy: 1.0000\n",
      "Epoch 54/100\n",
      "3/3 [==============================] - 0s 55ms/step - loss: 1.0966e-04 - accuracy: 1.0000 - val_loss: 7.9081e-06 - val_accuracy: 1.0000\n",
      "Epoch 55/100\n",
      "3/3 [==============================] - 0s 51ms/step - loss: 1.4682e-04 - accuracy: 1.0000 - val_loss: 7.9554e-06 - val_accuracy: 1.0000\n",
      "Epoch 56/100\n",
      "3/3 [==============================] - 0s 47ms/step - loss: 3.6032e-05 - accuracy: 1.0000 - val_loss: 7.7940e-06 - val_accuracy: 1.0000\n",
      "Epoch 57/100\n",
      "3/3 [==============================] - 0s 49ms/step - loss: 4.0056e-05 - accuracy: 1.0000 - val_loss: 7.5863e-06 - val_accuracy: 1.0000\n",
      "Epoch 58/100\n",
      "3/3 [==============================] - 0s 53ms/step - loss: 2.6500e-05 - accuracy: 1.0000 - val_loss: 7.3266e-06 - val_accuracy: 1.0000\n",
      "Epoch 59/100\n",
      "3/3 [==============================] - 0s 36ms/step - loss: 1.3566e-05 - accuracy: 1.0000 - val_loss: 7.0583e-06 - val_accuracy: 1.0000\n",
      "Epoch 60/100\n",
      "3/3 [==============================] - 0s 46ms/step - loss: 2.4010e-04 - accuracy: 1.0000 - val_loss: 7.2289e-06 - val_accuracy: 1.0000\n",
      "Epoch 61/100\n",
      "3/3 [==============================] - 0s 50ms/step - loss: 1.3121e-04 - accuracy: 1.0000 - val_loss: 7.3082e-06 - val_accuracy: 1.0000\n",
      "Epoch 62/100\n",
      "3/3 [==============================] - 0s 48ms/step - loss: 9.7859e-05 - accuracy: 1.0000 - val_loss: 6.9173e-06 - val_accuracy: 1.0000\n",
      "Epoch 63/100\n",
      "3/3 [==============================] - 0s 48ms/step - loss: 6.3358e-05 - accuracy: 1.0000 - val_loss: 6.4382e-06 - val_accuracy: 1.0000\n",
      "Epoch 64/100\n",
      "3/3 [==============================] - 0s 46ms/step - loss: 5.6709e-05 - accuracy: 1.0000 - val_loss: 5.9275e-06 - val_accuracy: 1.0000\n",
      "Epoch 65/100\n",
      "3/3 [==============================] - 0s 53ms/step - loss: 3.9130e-04 - accuracy: 1.0000 - val_loss: 4.9546e-06 - val_accuracy: 1.0000\n",
      "Epoch 66/100\n",
      "3/3 [==============================] - 0s 46ms/step - loss: 1.5851e-05 - accuracy: 1.0000 - val_loss: 4.3741e-06 - val_accuracy: 1.0000\n",
      "Epoch 67/100\n",
      "3/3 [==============================] - 0s 47ms/step - loss: 3.0630e-05 - accuracy: 1.0000 - val_loss: 4.2249e-06 - val_accuracy: 1.0000\n",
      "Epoch 68/100\n",
      "3/3 [==============================] - 0s 50ms/step - loss: 1.0117e-04 - accuracy: 1.0000 - val_loss: 4.1784e-06 - val_accuracy: 1.0000\n",
      "Epoch 69/100\n",
      "3/3 [==============================] - 0s 52ms/step - loss: 7.1739e-05 - accuracy: 1.0000 - val_loss: 3.9759e-06 - val_accuracy: 1.0000\n",
      "Epoch 70/100\n",
      "3/3 [==============================] - 0s 32ms/step - loss: 3.3876e-05 - accuracy: 1.0000 - val_loss: 3.8056e-06 - val_accuracy: 1.0000\n",
      "Epoch 71/100\n",
      "3/3 [==============================] - 0s 27ms/step - loss: 9.8151e-05 - accuracy: 1.0000 - val_loss: 3.6632e-06 - val_accuracy: 1.0000\n",
      "Epoch 72/100\n",
      "3/3 [==============================] - 0s 30ms/step - loss: 4.0812e-05 - accuracy: 1.0000 - val_loss: 3.5124e-06 - val_accuracy: 1.0000\n",
      "Epoch 73/100\n",
      "3/3 [==============================] - 0s 30ms/step - loss: 3.7859e-05 - accuracy: 1.0000 - val_loss: 3.3951e-06 - val_accuracy: 1.0000\n",
      "Epoch 74/100\n",
      "3/3 [==============================] - 0s 30ms/step - loss: 1.4988e-04 - accuracy: 1.0000 - val_loss: 3.2304e-06 - val_accuracy: 1.0000\n",
      "Epoch 75/100\n",
      "3/3 [==============================] - 0s 30ms/step - loss: 2.0167e-05 - accuracy: 1.0000 - val_loss: 3.1692e-06 - val_accuracy: 1.0000\n",
      "Epoch 76/100\n",
      "3/3 [==============================] - 0s 30ms/step - loss: 4.8749e-05 - accuracy: 1.0000 - val_loss: 3.1421e-06 - val_accuracy: 1.0000\n",
      "Epoch 77/100\n",
      "3/3 [==============================] - 0s 28ms/step - loss: 9.4577e-05 - accuracy: 1.0000 - val_loss: 3.0144e-06 - val_accuracy: 1.0000\n",
      "Epoch 78/100\n",
      "3/3 [==============================] - 0s 28ms/step - loss: 7.6020e-05 - accuracy: 1.0000 - val_loss: 2.8971e-06 - val_accuracy: 1.0000\n",
      "Epoch 79/100\n",
      "3/3 [==============================] - 0s 30ms/step - loss: 4.7465e-05 - accuracy: 1.0000 - val_loss: 2.8108e-06 - val_accuracy: 1.0000\n",
      "Epoch 80/100\n",
      "3/3 [==============================] - 0s 30ms/step - loss: 4.1723e-05 - accuracy: 1.0000 - val_loss: 2.7263e-06 - val_accuracy: 1.0000\n",
      "Epoch 81/100\n",
      "3/3 [==============================] - 0s 30ms/step - loss: 4.1251e-05 - accuracy: 1.0000 - val_loss: 2.6395e-06 - val_accuracy: 1.0000\n",
      "Epoch 82/100\n",
      "3/3 [==============================] - 0s 30ms/step - loss: 1.0668e-05 - accuracy: 1.0000 - val_loss: 2.5509e-06 - val_accuracy: 1.0000\n",
      "Epoch 83/100\n",
      "3/3 [==============================] - 0s 32ms/step - loss: 7.6453e-05 - accuracy: 1.0000 - val_loss: 2.4926e-06 - val_accuracy: 1.0000\n",
      "Epoch 84/100\n",
      "3/3 [==============================] - 0s 30ms/step - loss: 1.0306e-05 - accuracy: 1.0000 - val_loss: 2.4616e-06 - val_accuracy: 1.0000\n",
      "Epoch 85/100\n",
      "3/3 [==============================] - 0s 30ms/step - loss: 3.0891e-05 - accuracy: 1.0000 - val_loss: 2.4313e-06 - val_accuracy: 1.0000\n",
      "Epoch 86/100\n",
      "3/3 [==============================] - 0s 31ms/step - loss: 1.3553e-05 - accuracy: 1.0000 - val_loss: 2.4010e-06 - val_accuracy: 1.0000\n",
      "Epoch 87/100\n",
      "3/3 [==============================] - 0s 30ms/step - loss: 1.7069e-05 - accuracy: 1.0000 - val_loss: 2.3644e-06 - val_accuracy: 1.0000\n",
      "Epoch 88/100\n",
      "3/3 [==============================] - 0s 29ms/step - loss: 4.5128e-05 - accuracy: 1.0000 - val_loss: 2.2889e-06 - val_accuracy: 1.0000\n",
      "Epoch 89/100\n",
      "3/3 [==============================] - 0s 34ms/step - loss: 7.8937e-05 - accuracy: 1.0000 - val_loss: 2.2814e-06 - val_accuracy: 1.0000\n",
      "Epoch 90/100\n",
      "3/3 [==============================] - 0s 55ms/step - loss: 1.9718e-05 - accuracy: 1.0000 - val_loss: 2.3066e-06 - val_accuracy: 1.0000\n",
      "Epoch 91/100\n",
      "3/3 [==============================] - 0s 29ms/step - loss: 1.0313e-05 - accuracy: 1.0000 - val_loss: 2.3198e-06 - val_accuracy: 1.0000\n",
      "Epoch 92/100\n",
      "3/3 [==============================] - 0s 28ms/step - loss: 2.3223e-05 - accuracy: 1.0000 - val_loss: 2.3162e-06 - val_accuracy: 1.0000\n",
      "Epoch 93/100\n",
      "3/3 [==============================] - 0s 29ms/step - loss: 2.6660e-05 - accuracy: 1.0000 - val_loss: 2.2863e-06 - val_accuracy: 1.0000\n",
      "Epoch 94/100\n",
      "3/3 [==============================] - 0s 30ms/step - loss: 3.1948e-05 - accuracy: 1.0000 - val_loss: 2.3010e-06 - val_accuracy: 1.0000\n",
      "Epoch 95/100\n",
      "3/3 [==============================] - 0s 35ms/step - loss: 3.8335e-05 - accuracy: 1.0000 - val_loss: 2.4814e-06 - val_accuracy: 1.0000\n",
      "Epoch 96/100\n",
      "3/3 [==============================] - 0s 30ms/step - loss: 6.3467e-05 - accuracy: 1.0000 - val_loss: 2.5076e-06 - val_accuracy: 1.0000\n",
      "Epoch 97/100\n",
      "3/3 [==============================] - 0s 30ms/step - loss: 3.7650e-05 - accuracy: 1.0000 - val_loss: 2.2243e-06 - val_accuracy: 1.0000\n",
      "Epoch 98/100\n",
      "3/3 [==============================] - 0s 29ms/step - loss: 7.9830e-06 - accuracy: 1.0000 - val_loss: 2.0516e-06 - val_accuracy: 1.0000\n",
      "Epoch 99/100\n",
      "3/3 [==============================] - 0s 38ms/step - loss: 1.3453e-05 - accuracy: 1.0000 - val_loss: 1.9311e-06 - val_accuracy: 1.0000\n",
      "Epoch 100/100\n",
      "3/3 [==============================] - 0s 49ms/step - loss: 1.2181e-05 - accuracy: 1.0000 - val_loss: 1.8301e-06 - val_accuracy: 1.0000\n"
     ]
    }
   ],
   "source": [
    "H = model.fit(x_train, y_train, validation_data=(x_test, y_test), \n",
    "          epochs=max_epochs, batch_size=32)"
   ]
  },
  {
   "cell_type": "code",
   "execution_count": 15,
   "metadata": {},
   "outputs": [
    {
     "data": {
      "image/png": "[encoded data removed]",
      "text/plain": [
       "<Figure size 432x288 with 1 Axes>"
      ]
     },
     "metadata": {},
     "output_type": "display_data"
    }
   ],
   "source": [
    "N = np.arange(0, max_epochs)\n",
    "plt.style.use(\"ggplot\")\n",
    "plt.figure()\n",
    "plt.plot(N, H.history[\"loss\"], label=\"train_loss\")\n",
    "plt.plot(N, H.history[\"val_loss\"], label=\"val_loss\")\n",
    "#plt.plot(N, H.history[\"accuracy\"], label=\"train_acc\")\n",
    "#plt.plot(N, H.history[\"val_accuracy\"], label=\"val_acc\")\n",
    "plt.xlabel(\"Epoch #\")\n",
    "plt.legend()\n",
    "plt.show()"
   ]
  },
  {
   "cell_type": "markdown",
   "metadata": {},
   "source": [
    "<h3>7. Evaluate the Model</h3>"
   ]
  },
  {
   "cell_type": "code",
   "execution_count": 16,
   "metadata": {},
   "outputs": [
    {
     "name": "stdout",
     "output_type": "stream",
     "text": [
      "              precision    recall  f1-score   support\n",
      "\n",
      "daun kemangi       1.00      1.00      1.00         8\n",
      " Daun Nangka       1.00      1.00      1.00        12\n",
      "\n",
      "    accuracy                           1.00        20\n",
      "   macro avg       1.00      1.00      1.00        20\n",
      "weighted avg       1.00      1.00      1.00        20\n",
      "\n"
     ]
    },
    {
     "name": "stderr",
     "output_type": "stream",
     "text": [
      "C:\\Users\\achma\\AppData\\Local\\Temp/ipykernel_11400/954476436.py:3: DeprecationWarning: `np.int` is a deprecated alias for the builtin `int`. To silence this warning, use `int` by itself. Doing this will not modify any behavior and is safe. When replacing `np.int`, you may wish to use e.g. `np.int64` or `np.int32` to specify the precision. If you wish to review your current use, check the release note link for additional information.\n",
      "Deprecated in NumPy 1.20; for more details and guidance: https://numpy.org/devdocs/release/1.20.0-notes.html#deprecations\n",
      "  target = (predictions > 0.5).astype(np.int)\n"
     ]
    }
   ],
   "source": [
    "# menghitung nilai akurasi model terhadap data test\n",
    "predictions = model.predict(x_test, batch_size=32)\n",
    "target = (predictions > 0.5).astype(np.int)\n",
    "print(classification_report(y_test, target, target_names=label_list))"
   ]
  },
  {
   "cell_type": "code",
   "execution_count": 17,
   "metadata": {},
   "outputs": [
    {
     "name": "stdout",
     "output_type": "stream",
     "text": [
      "[[0.15276599]]\n"
     ]
    }
   ],
   "source": [
    "# uji model menggunakan image lain\n",
    "queryPath = imagePaths+'query_daun kemangi.jpg'\n",
    "query = cv2.imread(queryPath)\n",
    "output = query.copy()\n",
    "query = cv2.resize(query, (32, 32))\n",
    "q = []\n",
    "q.append(query)\n",
    "q = np.array(q, dtype='float') / 255.0\n",
    "\n",
    "q_pred = model.predict(q)\n",
    "print(q_pred)"
   ]
  },
  {
   "cell_type": "code",
   "execution_count": 18,
   "metadata": {},
   "outputs": [
    {
     "ename": "error",
     "evalue": "OpenCV(4.5.4-dev) D:\\a\\opencv-python\\opencv-python\\opencv\\modules\\highgui\\src\\window_w32.cpp:1261: error: (-27:Null pointer) NULL window: 'Output' in function 'cvDestroyWindow'\n",
     "output_type": "error",
     "traceback": [
      "\u001b[1;31m---------------------------------------------------------------------------\u001b[0m",
      "\u001b[1;31merror\u001b[0m                                     Traceback (most recent call last)",
      "\u001b[1;32m~\\AppData\\Local\\Temp/ipykernel_11400/139330704.py\u001b[0m in \u001b[0;36m<module>\u001b[1;34m\u001b[0m\n\u001b[0;32m      9\u001b[0m \u001b[0mcv2\u001b[0m\u001b[1;33m.\u001b[0m\u001b[0mimshow\u001b[0m\u001b[1;33m(\u001b[0m\u001b[1;34m'Output'\u001b[0m\u001b[1;33m,\u001b[0m \u001b[0moutput\u001b[0m\u001b[1;33m)\u001b[0m\u001b[1;33m\u001b[0m\u001b[1;33m\u001b[0m\u001b[0m\n\u001b[0;32m     10\u001b[0m \u001b[0mcv2\u001b[0m\u001b[1;33m.\u001b[0m\u001b[0mwaitKey\u001b[0m\u001b[1;33m(\u001b[0m\u001b[1;33m)\u001b[0m \u001b[1;31m# image tidak akan diclose,sebelum user menekan sembarang tombol\u001b[0m\u001b[1;33m\u001b[0m\u001b[1;33m\u001b[0m\u001b[0m\n\u001b[1;32m---> 11\u001b[1;33m \u001b[0mcv2\u001b[0m\u001b[1;33m.\u001b[0m\u001b[0mdestroyWindow\u001b[0m\u001b[1;33m(\u001b[0m\u001b[1;34m'Output'\u001b[0m\u001b[1;33m)\u001b[0m \u001b[1;31m# image akan diclose\u001b[0m\u001b[1;33m\u001b[0m\u001b[1;33m\u001b[0m\u001b[0m\n\u001b[0m",
      "\u001b[1;31merror\u001b[0m: OpenCV(4.5.4-dev) D:\\a\\opencv-python\\opencv-python\\opencv\\modules\\highgui\\src\\window_w32.cpp:1261: error: (-27:Null pointer) NULL window: 'Output' in function 'cvDestroyWindow'\n"
     ]
    }
   ],
   "source": [
    "if q_pred<=0.5 :\n",
    "    target = \"daun kemangi\"\n",
    "else :\n",
    "    target = \"Daun Nangka\"\n",
    "text = \"{}\".format(target)\n",
    "cv2.putText(output, text, (10, 30), cv2.FONT_HERSHEY_SIMPLEX, 0.7, (0, 0, 255), 2)\n",
    " \n",
    "# menampilkan output image\n",
    "cv2.imshow('Output', output)\n",
    "cv2.waitKey() # image tidak akan diclose,sebelum user menekan sembarang tombol\n",
    "cv2.destroyWindow('Output') # image akan diclose"
   ]
  },
  {
   "cell_type": "code",
   "execution_count": null,
   "metadata": {},
   "outputs": [],
   "source": []
  }
 ],
 "metadata": {
  "kernelspec": {
   "display_name": "Python 3",
   "language": "python",
   "name": "python3"
  },
  "language_info": {
   "codemirror_mode": {
    "name": "ipython",
    "version": 3
   },
   "file_extension": ".py",
   "mimetype": "text/x-python",
   "name": "python",
   "nbconvert_exporter": "python",
   "pygments_lexer": "ipython3",
   "version": "3.9.4"
  }
 },
 "nbformat": 4,
 "nbformat_minor": 4
}
